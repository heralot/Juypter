{
 "cells": [
  {
   "cell_type": "markdown",
   "metadata": {},
   "source": [
    "<center>\n",
    "    <img src=\"https://cf-courses-data.s3.us.cloud-object-storage.appdomain.cloud/IBMDeveloperSkillsNetwork-DS0105EN-SkillsNetwork/labs/Module2/images/SN_web_lightmode.png\" width=\"300\" alt=\"cognitiveclass.ai logo\">\n",
    "</center>\n"
   ]
  },
  {
   "cell_type": "markdown",
   "metadata": {},
   "source": [
    "#### Add your code below following the instructions given in the course\n"
   ]
  },
  {
   "cell_type": "markdown",
   "metadata": {
    "tags": []
   },
   "source": [
    "# Jupyter_Notebook.ipynb"
   ]
  },
  {
   "cell_type": "markdown",
   "metadata": {},
   "source": [
    "## Welcome to my Notebook"
   ]
  },
  {
   "cell_type": "markdown",
   "metadata": {},
   "source": [
    "## Here is a list of several data science languages:\n",
    "1. Python\n",
    "2. Java\n",
    "3. R\n",
    "4. SQL\n",
    " "
   ]
  },
  {
   "cell_type": "markdown",
   "metadata": {},
   "source": [
    "## Here is a list of several data science libraries:\n",
    "1. Pandas\n",
    "2. PyTorch\n",
    "3. TensorFlow\n",
    "4. Plotly\n",
    "5. Seaborn"
   ]
  },
  {
   "cell_type": "markdown",
   "metadata": {},
   "source": [
    "## Here is a list of several data science tools:\n",
    "1. Apache Spark\n",
    "2. IBM SPSS\n",
    "3. Jupyter Notebook\n",
    "4. Matplotlib\n",
    "5. Tableau"
   ]
  },
  {
   "cell_type": "markdown",
   "metadata": {},
   "source": [
    "## Here are some arithmetic expressions:\n",
    "### 4 + 7\n",
    "### 5 + (25-8) - 2\n"
   ]
  },
  {
   "cell_type": "code",
   "execution_count": 7,
   "metadata": {
    "tags": []
   },
   "outputs": [
    {
     "data": {
      "text/plain": [
       "61"
      ]
     },
     "execution_count": 7,
     "metadata": {},
     "output_type": "execute_result"
    }
   ],
   "source": [
    "5 + (25+3) * 2"
   ]
  },
  {
   "cell_type": "code",
   "execution_count": 10,
   "metadata": {
    "tags": []
   },
   "outputs": [
    {
     "data": {
      "text/plain": [
       "8.0"
      ]
     },
     "execution_count": 10,
     "metadata": {},
     "output_type": "execute_result"
    }
   ],
   "source": [
    "Minutes = 480\n",
    "Hours = Minutes/60\n",
    "Hours"
   ]
  },
  {
   "cell_type": "markdown",
   "metadata": {
    "tags": []
   },
   "source": [
    "## Objectives\n",
    "- Create a markdown cell with the title of the notebook.\n",
    "- Create a markdown cell for an introduction.\n",
    "- Create a markdown cell to list data science languages.\n",
    "- Create a markdown cell to list data science libraries.\n",
    "- Create a markdown cell with a table of Data Science tools.\n",
    "- Create a markdown cell introducing arithmetic expression examples.\n",
    "- Create a code cell to multiply and add numbers.\n",
    "- Create a code cell to convert minutes to hours.\n",
    "- Insert a markdown cell to list Objectives.\n",
    "- Create a markdown cell to indicate the Author’s name.\n",
    "- Share your notebook through GitHub\n",
    "- Take a screenshot of the first page of the notebook."
   ]
  },
  {
   "cell_type": "markdown",
   "metadata": {},
   "source": [
    "## Author's Name: Devin"
   ]
  }
 ],
 "metadata": {
  "kernelspec": {
   "display_name": "Python",
   "language": "python",
   "name": "conda-env-python-py"
  },
  "language_info": {
   "codemirror_mode": {
    "name": "ipython",
    "version": 3
   },
   "file_extension": ".py",
   "mimetype": "text/x-python",
   "name": "python",
   "nbconvert_exporter": "python",
   "pygments_lexer": "ipython3",
   "version": "3.7.12"
  }
 },
 "nbformat": 4,
 "nbformat_minor": 4
}
